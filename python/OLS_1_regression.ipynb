{
 "cells": [
  {
   "source": [
    "# Ordinary least square (OLS) regression\n",
    "1. Perform OLS for all peptides in patients aganist kidney function (eGFR)\n",
    "2. Adjust for age, sex, presence of diabetes and hypertension\n",
    "3. Store the coefficient, standard errors and p-values in a dataframe. \n",
    "4. Correct the p-values for multiple testing according to FDR\n",
    "5. export the data frame"
   ],
   "cell_type": "markdown",
   "metadata": {}
  },
  {
   "cell_type": "code",
   "execution_count": 1,
   "metadata": {},
   "outputs": [],
   "source": [
    "from set_path import *\n",
    "from OLS import LR"
   ]
  },
  {
   "cell_type": "code",
   "execution_count": 15,
   "metadata": {},
   "outputs": [],
   "source": [
    "x1=LR(inputpep=f2+'reduced_all_pivot.csv',\n",
    "      inputpat=f2+'Tianlin_GFR_CKD_EPI_cleaned_20201005.csv',\n",
    "      var=['gender', \n",
    "           'Age', \n",
    "           'Diabetes/Obesity/metabolic syndrome',\n",
    "           'CVD/Hypertension',\n",
    "           'GFR_CKD_EPI', ],\n",
    "      output1=f2+'all_ols_results.csv',\n",
    "     outputresid=f2+'all_ols_resid.csv',\n",
    "     outputypred=f2+'all_ols_ypred.csv')\n",
    "x1.read()\n",
    "x1.ols2()\n",
    "x1.export_results()"
   ]
  },
  {
   "source": [
    "### The same OLS regression, but only performed in patients with a certain eGFR cutoff. \n",
    "1. A subclass `LR_egfr` is generated from parent `LR`\n",
    "2. Repeat the same steps above"
   ],
   "cell_type": "markdown",
   "metadata": {}
  },
  {
   "cell_type": "code",
   "execution_count": null,
   "metadata": {},
   "outputs": [],
   "source": [
    "class LR_egfr(LR):\n",
    "    \"\"\"to perform OLS in patients with a certain eGFR cutoff\"\"\"\n",
    "    def __init__(self, inputpep,inputpat,var,output1,outputresid,outputypred):\n",
    "        super().__init__(inputpep,inputpat,var,output1,outputresid,outputypred)\n",
    "    def read_egfr_cutoff(self):\n",
    "        \n",
    "        self.dfpat=pd.read_csv(self.inputpat,index_col=0)[self.var]\n",
    "        self.dfpat=self.dfpat[self.dfpat['GFR_CKD_EPI']<20]\n",
    "        print ('self.dfpat.shape',self.dfpat.shape)\n",
    "        \n",
    "#         print (self.dfpat.columns.tolist())\n",
    "#         print (self.dfpat.head())    \n",
    "        self.dfpep=pd.read_csv(self.inputpep,index_col=0)"
   ]
  },
  {
   "cell_type": "code",
   "execution_count": 5,
   "metadata": {},
   "outputs": [
    {
     "name": "stdout",
     "output_type": "stream",
     "text": [
      "self.dfpat.shape (162, 5)\n"
     ]
    }
   ],
   "source": [
    "x1=LR_egfr(inputpep=f2+'reduced_all_pivot.csv',\n",
    "      inputpat=f2+'Tianlin_GFR_CKD_EPI_cleaned_20201005.csv',\n",
    "      var=['gender', \n",
    "           'Age', \n",
    "           'Diabetes/Obesity/metabolic syndrome',\n",
    "           'CVD/Hypertension',\n",
    "           'GFR_CKD_EPI', ],\n",
    "      output1=f2+'all_ols_results_egfr20.csv',\n",
    "     outputresid=f2+'all_ols_resid_egfr20.csv',\n",
    "     outputypred=f2+'all_ols_ypred_egfr20.csv')\n",
    "x1.read_egfr_cutoff()\n",
    "x1.ols2()\n",
    "x1.export_results()       "
   ]
  }
 ],
 "metadata": {
  "kernelspec": {
   "display_name": "Python 3",
   "language": "python",
   "name": "python3"
  },
  "language_info": {
   "codemirror_mode": {
    "name": "ipython",
    "version": 3
   },
   "file_extension": ".py",
   "mimetype": "text/x-python",
   "name": "python",
   "nbconvert_exporter": "python",
   "pygments_lexer": "ipython3",
   "version": "3.8.3"
  }
 },
 "nbformat": 4,
 "nbformat_minor": 4
}