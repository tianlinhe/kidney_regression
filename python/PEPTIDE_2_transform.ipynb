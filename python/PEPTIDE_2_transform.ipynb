{
 "cells": [
  {
   "source": [
    "# `etl_transform`\n",
    "The input are parquet files (with long format) under the same directory.\n",
    "\n",
    "## Extract\n",
    "`pd.read_parquet()` extracts the input \n",
    "\n",
    "## Transformation\n",
    "* transform from long to pivot format\n",
    "* normalise (either log(x+1) or by rank-normalisation)\n",
    "\n",
    "## Load\n",
    "* output the data as csv"
   ],
   "cell_type": "markdown",
   "metadata": {}
  },
  {
   "cell_type": "code",
   "execution_count": null,
   "metadata": {},
   "outputs": [],
   "source": [
    "import pandas as pd\n",
    "import numpy as np\n",
    "from scipy import stats\n",
    "\n",
    "from set_path import *"
   ]
  },
  {
   "cell_type": "code",
   "execution_count": null,
   "metadata": {},
   "outputs": [],
   "source": [
    "def p_to_z(data):\n",
    "    q=1-data/2\n",
    "    z=stats.norm.ppf(data)\n",
    "    return z\n",
    "p_to_z=np.vectorize(p_to_z)"
   ]
  },
  {
   "cell_type": "code",
   "execution_count": null,
   "metadata": {},
   "outputs": [],
   "source": [
    "class TRANSFORM:\n",
    "    def __init__(self,pep,norm_method,output1):\n",
    "        self.dfpep=pep\n",
    "        self.norm_method=norm_method\n",
    "        self.output1=output1\n",
    "    def read_pep(self):\n",
    "        self.dfpep=pd.read_parquet(self.dfpep)\n",
    "    def long_to_pivot(self):\n",
    "        self.dfpep=self.dfpep.pivot(index='ProbenID', columns='Muster', values='Amplitude')\n",
    "        self.dfpep.fillna(0,inplace=True)\n",
    "        \n",
    "    def pep_normalise(self):\n",
    "        if self.norm_method=='none':\n",
    "            pass\n",
    "        elif self.norm_method=='ln': # log (x+1) transformation\n",
    "            self.dfpep=np.log(self.dfpep+1)\n",
    "        elif self.norm_method=='rank': # to z-scores\n",
    "            self.dfpep = self.dfpep.rank()\n",
    "            # pct is obtained by deviding rank /len(df)+1, in order to avoid getting '1' as pct\n",
    "            # pct=1 gives z= infinity \n",
    "            # therfore we cannot directly apply self.dfpep.rank(pct=1)\n",
    "            self.dfpep= self.dfpep/ (len(self.dfpep)+1)\n",
    "            self.dfpep=pd.DataFrame(data=p_to_z(self.dfpep),index=self.dfpep.index,columns=self.dfpep.columns)\n",
    "     #   print (self.dfpep.head)\n",
    "        print (self.dfpep.head())\n",
    "        print (self.dfpep.shape)\n",
    "    def check_na(self):\n",
    "        pass\n",
    "    \n",
    "    def export_csv(self):\n",
    "        self.dfpep.to_csv(self.output1)\n"
   ]
  },
  {
   "cell_type": "code",
   "execution_count": null,
   "metadata": {
    "scrolled": true
   },
   "outputs": [],
   "source": [
    "# ALL, from long to pivot\n",
    "x1=TRANSFORM(pep=f2+'reduced_all/',norm_method='rank',output1=f2+'reduced_all_pivot.csv')\n",
    "x1.read_pep()\n",
    "x1.long_to_pivot()\n",
    "x1.pep_normalise()\n",
    "x1.export_csv()"
   ]
  }
 ],
 "metadata": {
  "kernelspec": {
   "display_name": "Python 3",
   "language": "python",
   "name": "python3"
  },
  "language_info": {
   "codemirror_mode": {
    "name": "ipython",
    "version": 3
   },
   "file_extension": ".py",
   "mimetype": "text/x-python",
   "name": "python",
   "nbconvert_exporter": "python",
   "pygments_lexer": "ipython3",
   "version": "3.8.3"
  }
 },
 "nbformat": 4,
 "nbformat_minor": 4
}