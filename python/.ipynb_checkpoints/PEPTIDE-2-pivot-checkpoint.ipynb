{
 "cells": [
  {
   "cell_type": "markdown",
   "metadata": {},
   "source": [
    "# `etl_pivot`\n",
    "The input are parquet files (with long format) under the same directory.\n",
    "\n",
    "## Extract\n",
    "`pd.read_parquet()` extracts the input \n",
    "\n",
    "## Transformation\n",
    "* transform from long to pivot format\n",
    "* normalise (either log(x+1) or by rank)\n",
    "\n",
    "## Load\n",
    "* output the data as csv"
   ]
  },
  {
   "cell_type": "code",
   "execution_count": 1,
   "metadata": {},
   "outputs": [],
   "source": [
    "import pandas as pd\n",
    "import numpy as np\n",
    "from scipy import stats\n",
    "\n",
    "from set_path import *"
   ]
  },
  {
   "cell_type": "code",
   "execution_count": 2,
   "metadata": {},
   "outputs": [],
   "source": [
    "def p_to_z(data):\n",
    "    q=1-data/2\n",
    "    z=stats.norm.ppf(data)\n",
    "    return z\n",
    "p_to_z=np.vectorize(p_to_z)"
   ]
  },
  {
   "cell_type": "code",
   "execution_count": 3,
   "metadata": {},
   "outputs": [],
   "source": [
    "class TRANSFORM:\n",
    "    def __init__(self,pep,norm_method,output1):\n",
    "        self.dfpep=pep\n",
    "        self.norm_method=norm_method\n",
    "        self.output1=output1\n",
    "    def read_pep(self):\n",
    "        self.dfpep=pd.read_parquet(self.dfpep)\n",
    "    def long_to_pivot(self):\n",
    "        self.dfpep=self.dfpep.pivot(index='ProbenID', columns='Muster', values='Amplitude')\n",
    "        self.dfpep.fillna(0,inplace=True)\n",
    "        \n",
    "    def pep_normalise(self):\n",
    "        if self.norm_method=='none':\n",
    "            pass\n",
    "        elif self.norm_method=='ln': # log (x+1) transformation\n",
    "            self.dfpep=np.log(self.dfpep+1)\n",
    "        elif self.norm_method=='rank': # to z-scores\n",
    "            self.dfpep = self.dfpep.rank()\n",
    "            # pct is obtained by deviding rank /len(df)+1, in order to avoid getting '1' as pct\n",
    "            # pct=1 gives z= infinity \n",
    "            # therfore we cannot directly apply self.dfpep.rank(pct=1)\n",
    "            self.dfpep= self.dfpep/ (len(self.dfpep)+1)\n",
    "            self.dfpep=pd.DataFrame(data=p_to_z(self.dfpep),index=self.dfpep.index,columns=self.dfpep.columns)\n",
    "     #   print (self.dfpep.head)\n",
    "        print (self.dfpep.head())\n",
    "        print (self.dfpep.shape)\n",
    "    def check_na(self):\n",
    "        pass\n",
    "    \n",
    "    def export_csv(self):\n",
    "        self.dfpep.to_csv(self.output1)\n"
   ]
  },
  {
   "cell_type": "code",
   "execution_count": 4,
   "metadata": {
    "scrolled": true
   },
   "outputs": [
    {
     "ename": "ImportError",
     "evalue": "Unable to find a usable engine; tried using: 'pyarrow', 'fastparquet'.\nA suitable version of pyarrow or fastparquet is required for parquet support.\nTrying to import the above resulted in these errors:\n - Missing optional dependency 'pyarrow'. pyarrow is required for parquet support. Use pip or conda to install pyarrow.\n - Missing optional dependency 'fastparquet'. fastparquet is required for parquet support. Use pip or conda to install fastparquet.",
     "output_type": "error",
     "traceback": [
      "\u001b[0;31m---------------------------------------------------------------------------\u001b[0m",
      "\u001b[0;31mImportError\u001b[0m                               Traceback (most recent call last)",
      "\u001b[0;32m<ipython-input-4-d130a7fe7fc2>\u001b[0m in \u001b[0;36m<module>\u001b[0;34m\u001b[0m\n\u001b[1;32m      1\u001b[0m \u001b[0;31m# ALL, from long to pivot\u001b[0m\u001b[0;34m\u001b[0m\u001b[0;34m\u001b[0m\u001b[0;34m\u001b[0m\u001b[0m\n\u001b[1;32m      2\u001b[0m \u001b[0mx1\u001b[0m\u001b[0;34m=\u001b[0m\u001b[0mTRANSFORM\u001b[0m\u001b[0;34m(\u001b[0m\u001b[0mpep\u001b[0m\u001b[0;34m=\u001b[0m\u001b[0mf2\u001b[0m\u001b[0;34m+\u001b[0m\u001b[0;34m'reduced_all/'\u001b[0m\u001b[0;34m,\u001b[0m\u001b[0mnorm_method\u001b[0m\u001b[0;34m=\u001b[0m\u001b[0;34m'rank'\u001b[0m\u001b[0;34m,\u001b[0m\u001b[0moutput1\u001b[0m\u001b[0;34m=\u001b[0m\u001b[0mf2\u001b[0m\u001b[0;34m+\u001b[0m\u001b[0;34m'reduced_all_pivot.csv'\u001b[0m\u001b[0;34m)\u001b[0m\u001b[0;34m\u001b[0m\u001b[0;34m\u001b[0m\u001b[0m\n\u001b[0;32m----> 3\u001b[0;31m \u001b[0mx1\u001b[0m\u001b[0;34m.\u001b[0m\u001b[0mread_pep\u001b[0m\u001b[0;34m(\u001b[0m\u001b[0;34m)\u001b[0m\u001b[0;34m\u001b[0m\u001b[0;34m\u001b[0m\u001b[0m\n\u001b[0m\u001b[1;32m      4\u001b[0m \u001b[0mx1\u001b[0m\u001b[0;34m.\u001b[0m\u001b[0mlong_to_pivot\u001b[0m\u001b[0;34m(\u001b[0m\u001b[0;34m)\u001b[0m\u001b[0;34m\u001b[0m\u001b[0;34m\u001b[0m\u001b[0m\n\u001b[1;32m      5\u001b[0m \u001b[0mx1\u001b[0m\u001b[0;34m.\u001b[0m\u001b[0mpep_normalise\u001b[0m\u001b[0;34m(\u001b[0m\u001b[0;34m)\u001b[0m\u001b[0;34m\u001b[0m\u001b[0;34m\u001b[0m\u001b[0m\n",
      "\u001b[0;32m<ipython-input-3-47059a41470e>\u001b[0m in \u001b[0;36mread_pep\u001b[0;34m(self)\u001b[0m\n\u001b[1;32m      5\u001b[0m         \u001b[0mself\u001b[0m\u001b[0;34m.\u001b[0m\u001b[0moutput1\u001b[0m\u001b[0;34m=\u001b[0m\u001b[0moutput1\u001b[0m\u001b[0;34m\u001b[0m\u001b[0;34m\u001b[0m\u001b[0m\n\u001b[1;32m      6\u001b[0m     \u001b[0;32mdef\u001b[0m \u001b[0mread_pep\u001b[0m\u001b[0;34m(\u001b[0m\u001b[0mself\u001b[0m\u001b[0;34m)\u001b[0m\u001b[0;34m:\u001b[0m\u001b[0;34m\u001b[0m\u001b[0;34m\u001b[0m\u001b[0m\n\u001b[0;32m----> 7\u001b[0;31m         \u001b[0mself\u001b[0m\u001b[0;34m.\u001b[0m\u001b[0mdfpep\u001b[0m\u001b[0;34m=\u001b[0m\u001b[0mpd\u001b[0m\u001b[0;34m.\u001b[0m\u001b[0mread_parquet\u001b[0m\u001b[0;34m(\u001b[0m\u001b[0mself\u001b[0m\u001b[0;34m.\u001b[0m\u001b[0mdfpep\u001b[0m\u001b[0;34m)\u001b[0m\u001b[0;34m\u001b[0m\u001b[0;34m\u001b[0m\u001b[0m\n\u001b[0m\u001b[1;32m      8\u001b[0m     \u001b[0;32mdef\u001b[0m \u001b[0mlong_to_pivot\u001b[0m\u001b[0;34m(\u001b[0m\u001b[0mself\u001b[0m\u001b[0;34m)\u001b[0m\u001b[0;34m:\u001b[0m\u001b[0;34m\u001b[0m\u001b[0;34m\u001b[0m\u001b[0m\n\u001b[1;32m      9\u001b[0m         \u001b[0mself\u001b[0m\u001b[0;34m.\u001b[0m\u001b[0mdfpep\u001b[0m\u001b[0;34m=\u001b[0m\u001b[0mself\u001b[0m\u001b[0;34m.\u001b[0m\u001b[0mdfpep\u001b[0m\u001b[0;34m.\u001b[0m\u001b[0mpivot\u001b[0m\u001b[0;34m(\u001b[0m\u001b[0mindex\u001b[0m\u001b[0;34m=\u001b[0m\u001b[0;34m'ProbenID'\u001b[0m\u001b[0;34m,\u001b[0m \u001b[0mcolumns\u001b[0m\u001b[0;34m=\u001b[0m\u001b[0;34m'Muster'\u001b[0m\u001b[0;34m,\u001b[0m \u001b[0mvalues\u001b[0m\u001b[0;34m=\u001b[0m\u001b[0;34m'Amplitude'\u001b[0m\u001b[0;34m)\u001b[0m\u001b[0;34m\u001b[0m\u001b[0;34m\u001b[0m\u001b[0m\n",
      "\u001b[0;32m/opt/anaconda3/lib/python3.8/site-packages/pandas/io/parquet.py\u001b[0m in \u001b[0;36mread_parquet\u001b[0;34m(path, engine, columns, **kwargs)\u001b[0m\n\u001b[1;32m    314\u001b[0m     \u001b[0mDataFrame\u001b[0m\u001b[0;34m\u001b[0m\u001b[0;34m\u001b[0m\u001b[0m\n\u001b[1;32m    315\u001b[0m     \"\"\"\n\u001b[0;32m--> 316\u001b[0;31m     \u001b[0mimpl\u001b[0m \u001b[0;34m=\u001b[0m \u001b[0mget_engine\u001b[0m\u001b[0;34m(\u001b[0m\u001b[0mengine\u001b[0m\u001b[0;34m)\u001b[0m\u001b[0;34m\u001b[0m\u001b[0;34m\u001b[0m\u001b[0m\n\u001b[0m\u001b[1;32m    317\u001b[0m     \u001b[0;32mreturn\u001b[0m \u001b[0mimpl\u001b[0m\u001b[0;34m.\u001b[0m\u001b[0mread\u001b[0m\u001b[0;34m(\u001b[0m\u001b[0mpath\u001b[0m\u001b[0;34m,\u001b[0m \u001b[0mcolumns\u001b[0m\u001b[0;34m=\u001b[0m\u001b[0mcolumns\u001b[0m\u001b[0;34m,\u001b[0m \u001b[0;34m**\u001b[0m\u001b[0mkwargs\u001b[0m\u001b[0;34m)\u001b[0m\u001b[0;34m\u001b[0m\u001b[0;34m\u001b[0m\u001b[0m\n",
      "\u001b[0;32m/opt/anaconda3/lib/python3.8/site-packages/pandas/io/parquet.py\u001b[0m in \u001b[0;36mget_engine\u001b[0;34m(engine)\u001b[0m\n\u001b[1;32m     29\u001b[0m                 \u001b[0merror_msgs\u001b[0m \u001b[0;34m+=\u001b[0m \u001b[0;34m\"\\n - \"\u001b[0m \u001b[0;34m+\u001b[0m \u001b[0mstr\u001b[0m\u001b[0;34m(\u001b[0m\u001b[0merr\u001b[0m\u001b[0;34m)\u001b[0m\u001b[0;34m\u001b[0m\u001b[0;34m\u001b[0m\u001b[0m\n\u001b[1;32m     30\u001b[0m \u001b[0;34m\u001b[0m\u001b[0m\n\u001b[0;32m---> 31\u001b[0;31m         raise ImportError(\n\u001b[0m\u001b[1;32m     32\u001b[0m             \u001b[0;34m\"Unable to find a usable engine; \"\u001b[0m\u001b[0;34m\u001b[0m\u001b[0;34m\u001b[0m\u001b[0m\n\u001b[1;32m     33\u001b[0m             \u001b[0;34m\"tried using: 'pyarrow', 'fastparquet'.\\n\"\u001b[0m\u001b[0;34m\u001b[0m\u001b[0;34m\u001b[0m\u001b[0m\n",
      "\u001b[0;31mImportError\u001b[0m: Unable to find a usable engine; tried using: 'pyarrow', 'fastparquet'.\nA suitable version of pyarrow or fastparquet is required for parquet support.\nTrying to import the above resulted in these errors:\n - Missing optional dependency 'pyarrow'. pyarrow is required for parquet support. Use pip or conda to install pyarrow.\n - Missing optional dependency 'fastparquet'. fastparquet is required for parquet support. Use pip or conda to install fastparquet."
     ]
    }
   ],
   "source": [
    "# ALL, from long to pivot\n",
    "x1=TRANSFORM(pep=f2+'reduced_all/',norm_method='rank',output1=f2+'reduced_all_pivot.csv')\n",
    "x1.read_pep()\n",
    "x1.long_to_pivot()\n",
    "x1.pep_normalise()\n",
    "x1.export_csv()"
   ]
  },
  {
   "cell_type": "code",
   "execution_count": 7,
   "metadata": {
    "scrolled": true
   },
   "outputs": [
    {
     "name": "stdout",
     "output_type": "stream",
     "text": [
      "Muster                          99900421  99900966  99901132  99901155  \\\n",
      "ProbenID                                                                 \n",
      "50188-Calcification-Urin-87521 -0.693804  0.773842  0.278683  0.951278   \n",
      "50189-Calcification-Urin-87522  1.970505 -0.475899 -0.215640  1.052254   \n",
      "50190-Calcification-Urin-87523 -0.693804  0.091835 -0.342855 -0.475899   \n",
      "50191-Calcification-Urin-87524 -0.693804  0.408472 -0.030573 -0.693804   \n",
      "50192-Calcification-Urin-87525  0.773842  1.052254  0.091835 -0.030573   \n",
      "\n",
      "Muster                          99901274  99901532  99901555  99901661  \\\n",
      "ProbenID                                                                 \n",
      "50188-Calcification-Urin-87521  1.165288  1.052254  0.951278  0.859175   \n",
      "50189-Calcification-Urin-87522 -0.693804  1.656795  1.052254  1.165288   \n",
      "50190-Calcification-Urin-87523 -0.545564  1.165288 -0.733236 -1.227826   \n",
      "50191-Calcification-Urin-87524  0.342855  0.773842 -0.091835  0.693804   \n",
      "50192-Calcification-Urin-87525  0.859175 -0.153443  0.278683 -0.342855   \n",
      "\n",
      "Muster                          99901758  99901785  ...  99920109  99920132  \\\n",
      "ProbenID                                            ...                       \n",
      "50188-Calcification-Urin-87521  0.617985  0.693804  ...  0.773842 -0.408472   \n",
      "50189-Calcification-Urin-87522 -1.000491  0.951278  ...  0.859175  1.052254   \n",
      "50190-Calcification-Urin-87523  0.951278  0.859175  ... -0.545564 -0.153443   \n",
      "50191-Calcification-Urin-87524  0.091835  0.617985  ...  1.165288  0.951278   \n",
      "50192-Calcification-Urin-87525 -0.408472 -0.815766  ... -0.278683 -0.545564   \n",
      "\n",
      "Muster                          99920151  99920197  99920282  99920408  \\\n",
      "ProbenID                                                                 \n",
      "50188-Calcification-Urin-87521  0.859175 -0.815766  0.859175  0.951278   \n",
      "50189-Calcification-Urin-87522 -0.342855 -0.153443  0.278683  0.215640   \n",
      "50190-Calcification-Urin-87523 -0.030573  0.215640 -1.227826 -1.369856   \n",
      "50191-Calcification-Urin-87524  0.342855  0.773842  0.773842  0.617985   \n",
      "50192-Calcification-Urin-87525 -1.052254 -0.030573  0.215640  0.153443   \n",
      "\n",
      "Muster                          99920509  99920610  99920740  99920748  \n",
      "ProbenID                                                                \n",
      "50188-Calcification-Urin-87521  0.951278 -0.815766  0.545564  0.773842  \n",
      "50189-Calcification-Urin-87522  0.617985 -0.153443 -0.091835  0.693804  \n",
      "50190-Calcification-Urin-87523 -0.342855  1.165288 -1.656795 -0.951278  \n",
      "50191-Calcification-Urin-87524  1.052254  1.295575  0.693804  0.091835  \n",
      "50192-Calcification-Urin-87525 -0.278683  0.951278  0.859175  1.452576  \n",
      "\n",
      "[5 rows x 436 columns]\n"
     ]
    }
   ],
   "source": [
    "# test, from long to pivot\n",
    "x1=TRANSFORM(pep=f2+'reduced_test/',norm_method='rank',output1=f2+'reduced_test_pivot.csv')\n",
    "x1.read_pep()\n",
    "x1.long_to_pivot()\n",
    "x1.pep_normalise()\n",
    "# x1.export_csv()"
   ]
  },
  {
   "cell_type": "code",
   "execution_count": 9,
   "metadata": {
    "scrolled": true
   },
   "outputs": [
    {
     "name": "stdout",
     "output_type": "stream",
     "text": [
      "Muster                   99900259  99900340  99900421  99900467  99900579  \\\n",
      "ProbenID                                                                    \n",
      "100174-Diamos-Urin-923     179.13      0.00    183.28    204.20      0.00   \n",
      "100231-Diamos-Urin-980     475.77    436.30    376.23     75.78     90.33   \n",
      "100236-Diamos-Urin-985     169.20      0.00    296.20      0.00      0.00   \n",
      "100268-Diamos-Urin-1017      0.00    361.19      0.00      0.00      0.00   \n",
      "100280-Diamos-Urin-1029    157.44    382.66    705.98      0.00     69.22   \n",
      "\n",
      "Muster                   99900966  99901132  99901155  99901274  99901338  \\\n",
      "ProbenID                                                                    \n",
      "100174-Diamos-Urin-923       0.00    780.57   1863.88    455.70      0.00   \n",
      "100231-Diamos-Urin-980       0.00   4862.04   1018.31   1787.36    237.70   \n",
      "100236-Diamos-Urin-985     421.72   1105.46    492.35   1089.96    318.64   \n",
      "100268-Diamos-Urin-1017      0.00   2329.26   1440.38      0.00      0.00   \n",
      "100280-Diamos-Urin-1029      0.00   3137.34    817.09    830.25      0.00   \n",
      "\n",
      "Muster                   ...  99919885  99919958  99920010  99920065  \\\n",
      "ProbenID                 ...                                           \n",
      "100174-Diamos-Urin-923   ...    775.73      0.00    336.65   2617.74   \n",
      "100231-Diamos-Urin-980   ...     36.00    501.98    326.21   2124.33   \n",
      "100236-Diamos-Urin-985   ...    178.84   4980.82      0.00  12473.10   \n",
      "100268-Diamos-Urin-1017  ...   1364.58     76.56    821.83   5435.18   \n",
      "100280-Diamos-Urin-1029  ...   1150.96    119.76      0.00   3178.15   \n",
      "\n",
      "Muster                   99920087  99920151  99920197  99920282  99920326  \\\n",
      "ProbenID                                                                    \n",
      "100174-Diamos-Urin-923    1102.45   1710.93    370.93      0.00     51.69   \n",
      "100231-Diamos-Urin-980    3039.97      0.00      0.00    154.99      0.00   \n",
      "100236-Diamos-Urin-985    4034.87   7220.81   5846.49   3856.75   1001.12   \n",
      "100268-Diamos-Urin-1017   3745.68      0.00   5247.26    637.26    450.72   \n",
      "100280-Diamos-Urin-1029   2846.09      0.00    420.20    803.51    351.61   \n",
      "\n",
      "Muster                   99920509  \n",
      "ProbenID                           \n",
      "100174-Diamos-Urin-923    2769.09  \n",
      "100231-Diamos-Urin-980     562.16  \n",
      "100236-Diamos-Urin-985    9104.41  \n",
      "100268-Diamos-Urin-1017   3708.59  \n",
      "100280-Diamos-Urin-1029    338.87  \n",
      "\n",
      "[5 rows x 470 columns]\n",
      "(6892, 470)\n"
     ]
    }
   ],
   "source": [
    "# TRAIN, from long to pivot\n",
    "x1=TRANSFORM(pep=f2+'reduced_train/',norm_method='none',output1=f2+'reduced_train_pivot.csv')\n",
    "x1.read_pep()\n",
    "x1.long_to_pivot()\n",
    "x1.pep_normalise()\n",
    "# x1.export_csv()"
   ]
  },
  {
   "cell_type": "code",
   "execution_count": null,
   "metadata": {},
   "outputs": [],
   "source": []
  }
 ],
 "metadata": {
  "kernelspec": {
   "display_name": "Python 3",
   "language": "python",
   "name": "python3"
  },
  "language_info": {
   "codemirror_mode": {
    "name": "ipython",
    "version": 3
   },
   "file_extension": ".py",
   "mimetype": "text/x-python",
   "name": "python",
   "nbconvert_exporter": "python",
   "pygments_lexer": "ipython3",
   "version": "3.8.3"
  }
 },
 "nbformat": 4,
 "nbformat_minor": 4
}
