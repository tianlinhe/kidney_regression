{
 "cells": [
  {
   "cell_type": "markdown",
   "metadata": {},
   "source": [
    "# Check eGFR\n",
    "The cleaned data resides in `f2+'Tianlin_GFR_CKD_EPI_cleaned_20200904.xlsx'`.\n",
    "<br>It contains 8401 rows and 85 columns\n",
    "## python-class CHECK2\n",
    "1. `x1=CHECK2(f2+'Tianlin_GFR_CKD_EPI_cleaned_20200904.xlsx')` load the data \n",
    "    * $\\Rightarrow$ Running `x1=CHECK2(f2+'Tianlin_GFR_CKD_EPI_cleaned_20200904.xlsx')` displays 'It contains 8401 rows and 85 columns'\n",
    "    * uncomment to see column names\n",
    "    * uncomment to see study names\n",
    "    \n",
    "1. `plot_hist` to plot histogram of one column at a time\n",
    "    * $\\Rightarrow$ Running `x1.plot_hist(colname,path+filename)` to display the histogram of a given colname and save it as a PNG</tab>\n",
    "    * `colname` must be a `string`, therefore it is surrounded by a pair of double/single quotation marks (e.g. \"GFR_CKD_EPI\" or 'Age')\n",
    "    * `path` and `filename` must be `string`, therefore they are surrounded by a pair of double/single quotation marks, e.g.f3+\"whatever-name.png\" (here f3 is also string), or 'C:/Users/project/whatever-name.png')\n",
    "   \n",
    "2. `test_normality` to show the stats and p-value of the normality test of a given colname\n",
    "    * $\\Rightarrow$ Running `x1.test_normality(colname)` to display the stats table</tab>\n",
    "    \n",
    "3. `colname_higher_than_n` to show characteristics of any colname higher than any number\n",
    "    * $\\Rightarrow$ Running `x1.colname_higher_than_n(colname,n)` to display the table of MAX, MIN, STD, etc</tab>\n",
    "    * colname and n is a combination of a `string` and a numerical number, e.g, ('GFR_CKD_EPI', 100) or ('Age', 40)\n",
    "\n",
    "    \n",
    "### Remarks: eGFR is given by the formula\n",
    "$GFR = 141 * \\min(Scr/κ,1)^{\\alpha}* \\max(Scr/κ, 1)^{-1.209} * 0.993^{Age} * 1.018 [if female] * 1.159 [if black]$\n",
    "* Scr is serum creatinine (mg/dL), \n",
    "* κ is 0.7 for females and 0.9 for males, \n",
    "* α is -0.329 for females and -0.411 for males, \n",
    "* min indicates the minimum of Scr/κ or 1, and max indicates the maximum of Scr/κ or 1.\n",
    "\n",
    "### For Sam: \n",
    "f1, f2, f3 are location+file name of original (input) and cleaned (output) data respectively. They were named according to my own folder setting. (I stored the original and cleaned file at two places so that I do not mix them up). \n",
    "<br>It is completely optional to use the same folder setting as mine, but in case you want, below is my setting:\n",
    "* I created a main folder called \"project_calc\"\n",
    "    * \"project_calc\" has **three** subfolders, called \"python\", \"data\", \"figures\" respectively\n",
    "    * \"data\" has two subfolders, called \"curated\" and \"original respectively\n",
    "* The script, \"PATIENT-1-clean_data.ipynb\" is stored in folder \"project_calc/python\"\n",
    "* The original data 'Tianlin_GFR_CKD_EPI_31082020.xls' is folder \"project_calc/data/original\"\n",
    "* The cleaned data (output) will be  stored in \"project_calc/data/curated/\" once it is generated from the script.\n",
    "* The histogram will be store in \"project/calc/figures\" once it is generated\n",
    "\n",
    "In case you adopt the same folder setting, you do not have to change anything from the script, just run it!\n",
    "\n",
    "<br> Alternatively, if you have the input data and this script in the SAME folder, you do not need to specify f1 and f2,because current path=default path. So: just change the two lines:\n",
    "* x1=CHECK2(f2+'Tianlin_GFR_CKD_EPI_cleaned_20200904.xlsx') to x1=CHECK2('Tianlin_GFR_CKD_EPI_cleaned_20200904.xlsx')\n",
    "* x1.plot_hist(f3+'whatever-name.png') to x1.plot_hist(f3+'whatever-name.png')    \n"
   ]
  },
  {
   "cell_type": "code",
   "execution_count": 2,
   "metadata": {},
   "outputs": [],
   "source": [
    "%%bash --out path\n",
    "cd ..\n",
    "pwd"
   ]
  },
  {
   "cell_type": "code",
   "execution_count": 12,
   "metadata": {},
   "outputs": [],
   "source": [
    "f1=path.strip()+'/data/original/'\n",
    "f2=path.strip()+'/data/curated/'\n",
    "f3=path.strip()+'/figures/'"
   ]
  },
  {
   "cell_type": "code",
   "execution_count": 8,
   "metadata": {},
   "outputs": [
    {
     "name": "stdout",
     "output_type": "stream",
     "text": [
      "1_0_30.06.2020_MosaID_1_7_5_MFinder_vs_MV_HybridSolution.csv\r\n",
      "1_1_30.06.2020_MosaID_1_7_5_MFinder_vs_MV_HybridSolution.csv\r\n",
      "1_vs_2_mwu.xlsx\r\n",
      "2_30.06.2020_MosaID_1_7_5_MFinder_vs_MV_HybridSolution.csv\r\n",
      "3_0_30.06.2020_MosaID_1_7_5_MFinder_vs_MV_HybridSolution.csv\r\n",
      "3_1_30.06.2020_MosaID_1_7_5_MFinder_vs_MV_HybridSolution.csv\r\n",
      "Tianlin_eurenomics.xlsx\r\n",
      "Tianlin_GFR_CKD_EPI_cleaned_20200904.xlsx\r\n",
      "Tianlin_ntcvd.xlsx\r\n"
     ]
    }
   ],
   "source": [
    "% ls {f2}"
   ]
  },
  {
   "cell_type": "code",
   "execution_count": 20,
   "metadata": {},
   "outputs": [],
   "source": [
    "import pandas as pd\n",
    "import numpy as np\n",
    "from matplotlib import pyplot as plt\n",
    "from scipy import stats"
   ]
  },
  {
   "cell_type": "code",
   "execution_count": 39,
   "metadata": {},
   "outputs": [],
   "source": [
    "class CHECK2:\n",
    "    def __init__(self,input1):\n",
    "        self.df1=pd.read_excel(input1)\n",
    "        # display original no. of rows and columns of the table\n",
    "        print ('It contains',self.df1.shape[0],'rows and', self.df1.shape[1],'columns')\n",
    "        # display column names\n",
    "#         print (self.df1.columns.tolist())\n",
    "        # display study names in column 'fidStudie'\n",
    "#         print (self.df1.fidStudie.unique())\n",
    "#         print (self.df1.gender.unique())\n",
    "    def plot_hist(self,colname,output1):\n",
    "        \n",
    "        # calculate mean and standard deviation of a colname we input\n",
    "        mu, sigma = self.df1[colname].mean(),self.df1[colname].std()\n",
    "        fig, ax = plt.subplots(1,figsize=(5,5))\n",
    "        \n",
    "        # plot histogram\n",
    "        n, bins, patches = ax.hist(self.df1[colname], 50, density=True, facecolor='g', alpha=0.75)\n",
    "\n",
    "        # assign plot parameters and labels\n",
    "        ax.set_xlabel(colname) # x-label\n",
    "        ax.set_ylabel('Probability') # y-label\n",
    "        ax.set_title('Histogram of %s'%(colname)) # pot title\n",
    "        ax.text(0.5,0.9,  # (0.5,0.9)= (x,y)-data coordinate\n",
    "                 'mean=%s1, std=%s2'%(np.round(mu),np.round(sigma)), #display mean and std  \n",
    "                 transform=ax.transAxes,ha='center') #transform data coord. to ax coord.                                \n",
    "        ax.set_xlim(0,300) # set x-axis limit\n",
    "        ax.set_ylim(0, 0.02) # set y-axis limit\n",
    "        plt.grid(True) # display grid\n",
    "        plt.show() # show the plot\n",
    "        \n",
    "        #output the plot to destinated folder with a given name\n",
    "        fig.savefig(output1)\n",
    "    \n",
    "    def test_normality(self, colname):# normality test of a input colname\n",
    "        \n",
    "        k2,p = stats.normaltest(self.df1[colname])\n",
    "        print (\"Normality test of %s:\\nstats=%s1\\np-value=%s2\"%(colname,k2,p))\n",
    "        \n",
    "    def colname_higher_than_n(self,colname,n):\n",
    "        \n",
    "        # extract those patients as a subtable\n",
    "        sub=self.df1[self.df1[colname]>=n]\n",
    "        print ('There are',len(sub),colname, 'higher than', n)\n",
    "        \n",
    "        # characteristics of the patients according to study name\n",
    "        print (sub.groupby('fidStudie')[colname].describe())\n"
   ]
  },
  {
   "cell_type": "code",
   "execution_count": 40,
   "metadata": {},
   "outputs": [
    {
     "name": "stdout",
     "output_type": "stream",
     "text": [
      "It contains 8401 rows and 85 columns\n"
     ]
    }
   ],
   "source": [
    "x1=CHECK2(f2+'Tianlin_GFR_CKD_EPI_cleaned_20200904.xlsx')\n",
    "# For Sam: please change it to x1=CHECK2('Tianlin_GFR_CKD_EPI_cleaned_20200904.xlsx'),\n",
    "# if you have this note book and original xls table in the same folder"
   ]
  },
  {
   "cell_type": "code",
   "execution_count": 41,
   "metadata": {},
   "outputs": [
    {
     "data": {
      "image/png": "[encoded data removed]",
      "text/plain": [
       "<Figure size 360x360 with 1 Axes>"
      ]
     },
     "metadata": {
      "needs_background": "light"
     },
     "output_type": "display_data"
    }
   ],
   "source": [
    "x1.plot_hist('GFR_CKD_EPI',f3+'hist_eGFR.png') #any (colname,path/filename.png) you like to test\n",
    "# For Sam: please change it to x1.plot_hist('GFR_CKD_EPI','whatever-name.png'),\n",
    "# if you have this note book and original xls table in the same folder"
   ]
  },
  {
   "cell_type": "code",
   "execution_count": 42,
   "metadata": {},
   "outputs": [
    {
     "name": "stdout",
     "output_type": "stream",
     "text": [
      "Normality test of GFR_CKD_EPI:\n",
      "stats=3568.68436941651361\n",
      "p-value=0.02\n"
     ]
    }
   ],
   "source": [
    "x1.test_normality('GFR_CKD_EPI') #any colname you like to test"
   ]
  },
  {
   "cell_type": "code",
   "execution_count": 43,
   "metadata": {},
   "outputs": [
    {
     "name": "stdout",
     "output_type": "stream",
     "text": [
      "There are 25 GFR_CKD_EPI higher than 200\n",
      "                 count        mean        std       min       25%       50%  \\\n",
      "fidStudie                                                                     \n",
      "DiaPat             1.0  611.225800        NaN  611.2258  611.2258  611.2258   \n",
      "HarvardDiabetes    1.0  425.361400        NaN  425.3614  425.3614  425.3614   \n",
      "Marlina           22.0  234.272727  36.393592  200.0000  211.0000  224.0000   \n",
      "Rupprecht          1.0  613.358000        NaN  613.3580  613.3580  613.3580   \n",
      "\n",
      "                      75%       max  \n",
      "fidStudie                            \n",
      "DiaPat           611.2258  611.2258  \n",
      "HarvardDiabetes  425.3614  425.3614  \n",
      "Marlina          252.0000  364.0000  \n",
      "Rupprecht        613.3580  613.3580  \n"
     ]
    }
   ],
   "source": [
    "x1.colname_higher_than_n('GFR_CKD_EPI',200) #any (colname, number) you like to test"
   ]
  },
  {
   "cell_type": "code",
   "execution_count": 44,
   "metadata": {},
   "outputs": [
    {
     "name": "stdout",
     "output_type": "stream",
     "text": [
      "There are 92 GFR_CKD_EPI higher than 150\n",
      "                 count        mean        std       min         25%       50%  \\\n",
      "fidStudie                                                                       \n",
      "CACTI_Diabetes     1.0  159.646000        NaN  159.6460  159.646000  159.6460   \n",
      "DIRECT             8.0  156.309112   7.005445  150.9814  152.487975  154.0079   \n",
      "DiaPat             1.0  611.225800        NaN  611.2258  611.225800  611.2258   \n",
      "HarvardDiabetes    1.0  425.361400        NaN  425.3614  425.361400  425.3614   \n",
      "Marlina           78.0  186.923077  37.327184  151.0000  162.000000  177.0000   \n",
      "Rupprecht          1.0  613.358000        NaN  613.3580  613.358000  613.3580   \n",
      "Stanislas          2.0  155.750000   8.131728  150.0000  152.875000  155.7500   \n",
      "\n",
      "                      75%       max  \n",
      "fidStudie                            \n",
      "CACTI_Diabetes   159.6460  159.6460  \n",
      "DIRECT           156.2945  172.2042  \n",
      "DiaPat           611.2258  611.2258  \n",
      "HarvardDiabetes  425.3614  425.3614  \n",
      "Marlina          200.0000  364.0000  \n",
      "Rupprecht        613.3580  613.3580  \n",
      "Stanislas        158.6250  161.5000  \n"
     ]
    }
   ],
   "source": [
    "x1.colname_higher_than_n('GFR_CKD_EPI',150) #any (colname, number) you like to test"
   ]
  },
  {
   "cell_type": "code",
   "execution_count": null,
   "metadata": {},
   "outputs": [],
   "source": []
  }
 ],
 "metadata": {
  "kernelspec": {
   "display_name": "Python 3",
   "language": "python",
   "name": "python3"
  },
  "language_info": {
   "codemirror_mode": {
    "name": "ipython",
    "version": 3
   },
   "file_extension": ".py",
   "mimetype": "text/x-python",
   "name": "python",
   "nbconvert_exporter": "python",
   "pygments_lexer": "ipython3",
   "version": "3.7.0"
  }
 },
 "nbformat": 4,
 "nbformat_minor": 2
}
