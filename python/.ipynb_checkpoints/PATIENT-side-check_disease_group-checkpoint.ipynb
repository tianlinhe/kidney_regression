{
 "cells": [
  {
   "cell_type": "markdown",
   "metadata": {},
   "source": [
    "# Check urinary creatinine and ACR extracted from database\n",
    "The cleaned data resides in `f2+'Tianlin_GFR_CKD_EPI_cleaned_20200920.xlsx'`.\n",
    "<br>It contains 7939 rows and 21 columns\n",
    "## python-class CHECK2\n",
    "1. `x1=CHECK2(f2+'Tianlin_GFR_CKD_EPI_cleaned_20200920.xlsx')` load the data \n",
    "2. `per_unit(colname, unit)` to extract a column with a particular unit. For example:\n",
    "    * `x1.per_unit('U_Kreatinin','mmol/l')` extracts rows whose unit of \"U_Kreatinin\" as \"mmol/l\"\n",
    "    * `x1.per_unit('U_Kreatinin','mg/dL')` extracts rows whose unit of \"U_Kreatinin\" as \"mg/dL\"\n",
    "    * `x1.per_unit('acr','mg/g')` extracts rows whose unit of \"acr\" as \"mg/g\"\n",
    "1. `plot_hist` to plot histogram of one column at a time\n",
    "    * $\\Rightarrow$ Running `x1.plot_hist(colname,path+filename,ylim)` to display the histogram of a given colname and save it as a PNG</tab>\n",
    "    * `colname` must be a `string`, therefore it is surrounded by a pair of double/single quotation marks (e.g. \"GFR_CKD_EPI\" or 'Age')\n",
    "    * `path` and `filename` must be `string`, therefore they are surrounded by a pair of double/single quotation marks, e.g.f3+\"whatever-name.png\" (here f3 is also string), or 'C:/Users/project/whatever-name.png')\n",
    "    * you can set `ylim` manually for better visualisation. The default is 0.05.\n",
    "3. `groupby_study(colname)` to show the distribution of a column according to study name\n",
    "   \n",
    "2. `test_normality` to show the stats and p-value of the normality test of a given colname\n",
    "    * $\\Rightarrow$ Running `x1.test_normality(colname)` to display the stats table</tab>\n",
    "    \n",
    "3. `colname_higher_than_n` to show characteristics of any colname higher than any number\n",
    "    * $\\Rightarrow$ Running `x1.colname_higher_than_n(colname,n)` to display the table of MAX, MIN, STD, etc</tab>\n",
    "    * colname and n is a combination of a `string` and a numerical number, e.g, ('GFR_CKD_EPI', 100) or ('Age', 40)\n",
    "\n",
    "    \n",
    "### Remarks: eGFR is given by the formula\n",
    "$GFR = 141 * \\min(Scr/κ,1)^{\\alpha}* \\max(Scr/κ, 1)^{-1.209} * 0.993^{Age} * 1.018 [if female] * 1.159 [if black]$\n",
    "* Scr is serum creatinine (mg/dL), \n",
    "* κ is 0.7 for females and 0.9 for males, \n",
    "* α is -0.329 for females and -0.411 for males, \n",
    "* min indicates the minimum of Scr/κ or 1, and max indicates the maximum of Scr/κ or 1.\n",
    "\n",
    "### For Sam: \n",
    "f1, f2, f3 are location+file name of original (input) and cleaned (output) data respectively. They were named according to my own folder setting. (I stored the original and cleaned file at two places so that I do not mix them up). \n",
    "<br>It is completely optional to use the same folder setting as mine, but in case you want, below is my setting:\n",
    "* I created a main folder called \"project_calc\"\n",
    "    * \"project_calc\" has **three** subfolders, called **\"python\", \"data\", \"figures\"** respectively\n",
    "    * \"data\" has two subfolders, called \"curated\" and \"original respectively\n",
    "* The scripts, \"xxx.ipynb\" stored in folder \"project_calc/python\"\n",
    "* The original data 'Tianlin_GFR_CKD_EPI_31082020.xls' is in folder \"project_calc/data/original\"\n",
    "* The cleaned data (output) is in \"project_calc/data/curated/\" \n",
    "* The histogram will be store in \"project/calc/figures\" once it is generated\n",
    "\n",
    "In case you adopt the same folder setting, you do not have to change anything from the script, just run it!\n",
    "\n",
    "<br> Alternatively, if you have the input data and this script in the SAME folder, you do not need to specify f1 and f2,because current path=default path. So: just change the two lines:\n",
    "* x1=CHECK2(f2+'Tianlin_GFR_CKD_EPI_cleaned_20200904.xlsx') to x1=CHECK2('Tianlin_GFR_CKD_EPI_cleaned_20200904.xlsx')\n",
    "* x1.plot_hist(f3+'whatever-name.png') to x1.plot_hist(f3+'whatever-name.png')    \n"
   ]
  },
  {
   "cell_type": "code",
   "execution_count": 1,
   "metadata": {},
   "outputs": [],
   "source": [
    "%%bash --out path\n",
    "cd ..\n",
    "pwd"
   ]
  },
  {
   "cell_type": "code",
   "execution_count": 2,
   "metadata": {},
   "outputs": [],
   "source": [
    "f1=path.strip()+'/data/original/'\n",
    "f2=path.strip()+'/data/curated/'\n",
    "f3=path.strip()+'/figures/'"
   ]
  },
  {
   "cell_type": "code",
   "execution_count": 7,
   "metadata": {},
   "outputs": [
    {
     "name": "stdout",
     "output_type": "stream",
     "text": [
      "1_0_30.06.2020_MosaID_1_7_5_MFinder_vs_MV_HybridSolution.csv\r\n",
      "1_1_30.06.2020_MosaID_1_7_5_MFinder_vs_MV_HybridSolution.csv\r\n",
      "1_vs_2_mwu.xlsx\r\n",
      "2_30.06.2020_MosaID_1_7_5_MFinder_vs_MV_HybridSolution.csv\r\n",
      "3_0_30.06.2020_MosaID_1_7_5_MFinder_vs_MV_HybridSolution.csv\r\n",
      "3_1_30.06.2020_MosaID_1_7_5_MFinder_vs_MV_HybridSolution.csv\r\n",
      "disease_group.xlsx\r\n",
      "\u001b[0m\u001b[01;35mhist_eGFR.png\u001b[0m\r\n",
      "Thumbs.db\r\n",
      "Thumbs.db:encryptable\r\n",
      "Tianlin_eurenomics.xlsx\r\n",
      "Tianlin_GFR_CKD_EPI_cleaned_20200904.xlsx\r\n",
      "Tianlin_GFR_CKD_EPI_cleaned_20200909.xlsx\r\n",
      "Tianlin_GFR_CKD_EPI_cleaned_20200915.xlsx\r\n",
      "Tianlin_GFR_CKD_EPI_cleaned_20200920.xlsx\r\n",
      "Tianlin_ntcvd_all.xlsx\r\n",
      "Tianlin_ntcvd.xlsx\r\n"
     ]
    }
   ],
   "source": [
    "% ls {f2}"
   ]
  },
  {
   "cell_type": "code",
   "execution_count": 4,
   "metadata": {},
   "outputs": [],
   "source": [
    "import pandas as pd\n",
    "import numpy as np\n",
    "from matplotlib import pyplot as plt\n",
    "from scipy import stats"
   ]
  },
  {
   "cell_type": "code",
   "execution_count": 43,
   "metadata": {},
   "outputs": [],
   "source": [
    "class CHECK2:\n",
    "    def __init__(self,input1):\n",
    "        self.df1=pd.read_excel(input1)\n",
    "        # display original no. of rows and columns of the table\n",
    "        print ('It contains',self.df1.shape[0],'rows and', self.df1.shape[1],'columns')\n",
    "        # display column names\n",
    "#         print (self.df1.columns.tolist())\n",
    "        # display study names in column 'fidStudie'\n",
    "#         print (self.df1.fidStudie.unique())\n",
    "#         print (self.df1.gender.unique())\n",
    "    def per_unit(self,colname,unit): # extract rows with a certain unit\n",
    "        self.df1=self.df1[self.df1['unit_'+colname]==unit]\n",
    "        print ('It contains',self.df1.shape[0],'rows and', self.df1.shape[1],'columns')\n",
    "        \n",
    "    def groupby_study(self,colname):\n",
    "        print (self.df1.groupby('fidStudie')[colname].describe())\n",
    "        \n",
    "    def plot_hist(self,colname,ylim=0.05,output1=None):\n",
    "        \n",
    "        # calculate mean and standard deviation of a colname we input\n",
    "        mu, sigma = self.df1[colname].mean(),self.df1[colname].std()\n",
    "        fig, ax = plt.subplots(1,figsize=(5,5))\n",
    "        \n",
    "        # plot histogram\n",
    "        # n of bins =50\n",
    "        # density=True means it displays the probability density, so that AUC will sum up to 1\n",
    "        \n",
    "        n, bins, patches = ax.hist(self.df1[colname], 100, density=True, facecolor='g', alpha=0.75)\n",
    "\n",
    "        # assign plot parameters and labels\n",
    "        ax.set_xlabel(colname) # x-label\n",
    "        ax.set_ylabel('Probability') # y-label\n",
    "        ax.set_title('Histogram of %s'%(colname)) # pot title\n",
    "        ax.text(0.5,0.9,  # (0.5,0.9)= (x,y)-data coordinate\n",
    "                 'mean=%s1, std=%s2'%(np.round(mu),np.round(sigma)), #display mean and std  \n",
    "                 transform=ax.transAxes,ha='center') #transform data coord. to ax coord.                                \n",
    "#         ax.set_xlim(0,500) # set x-axis limit\n",
    "        ax.set_ylim(0, ylim) # set y-axis limit, default is 0.05\n",
    "        plt.grid(True) # display grid\n",
    "        plt.show() # show the plot\n",
    "        \n",
    "        #output the plot to destinated folder with a given name\n",
    "#         fig.savefig(output1)\n",
    "    \n",
    "    def test_normality(self, colname):# normality test of a input colname\n",
    "        \n",
    "        k2,p = stats.normaltest(self.df1[colname])\n",
    "        print (\"Normality test of %s:\\nstats=%s1\\np-value=%s2\"%(colname,k2,p))\n",
    "        \n",
    "    def colname_higher_than_n(self,colname,n):\n",
    "        \n",
    "        # extract those patients as a subtable\n",
    "        sub=self.df1[self.df1[colname]>=n]\n",
    "        print ('There are',len(sub),colname, 'higher than', n)\n",
    "        \n",
    "        # characteristics of the patients according to study name\n",
    "        print (sub.groupby('fidStudie')[colname].describe())\n"
   ]
  },
  {
   "cell_type": "code",
   "execution_count": 45,
   "metadata": {},
   "outputs": [
    {
     "name": "stdout",
     "output_type": "stream",
     "text": [
      "It contains 7939 rows and 21 columns\n",
      "It contains 360 rows and 21 columns\n",
      "                        count       mean        std     min    25%    50%  \\\n",
      "fidStudie                                                                   \n",
      "Benfotiamin             133.0   7.206015   3.500471   2.700   4.60   6.80   \n",
      "CKD_Bio                   9.0  12.151000   5.604286   0.019  12.32  13.69   \n",
      "Cardiovascular_Disease    1.0  21.000000        NaN  21.000  21.00  21.00   \n",
      "Comper_Diabetes         215.0  18.519535  59.871919   1.600   4.00   5.40   \n",
      "DAN_Diabetes              1.0   5.000000        NaN   5.000   5.00   5.00   \n",
      "Fanconi_Syndrom           1.0   8.200000        NaN   8.200   8.20   8.20   \n",
      "\n",
      "                          75%    max  \n",
      "fidStudie                             \n",
      "Benfotiamin              9.20   21.7  \n",
      "CKD_Bio                 13.86   18.5  \n",
      "Cardiovascular_Disease  21.00   21.0  \n",
      "Comper_Diabetes          8.40  304.0  \n",
      "DAN_Diabetes             5.00    5.0  \n",
      "Fanconi_Syndrom          8.20    8.2  \n"
     ]
    },
    {
     "data": {
      "image/png": "[encoded data removed]",
      "text/plain": [
       "<Figure size 360x360 with 1 Axes>"
      ]
     },
     "metadata": {
      "needs_background": "light"
     },
     "output_type": "display_data"
    }
   ],
   "source": [
    "# urinary creatinine with mmol/l as unit\n",
    "x1=CHECK2(f2+'Tianlin_GFR_CKD_EPI_cleaned_20200920.xlsx')\n",
    "x1.per_unit('U_Kreatinin','mmol/l')\n",
    "x1.groupby_study('U_Kreatinin') # distribution according to study\n",
    "x1.plot_hist('U_Kreatinin',ylim=0.15) # histogram"
   ]
  },
  {
   "cell_type": "code",
   "execution_count": 47,
   "metadata": {},
   "outputs": [
    {
     "name": "stdout",
     "output_type": "stream",
     "text": [
      "It contains 7939 rows and 21 columns\n",
      "It contains 478 rows and 21 columns\n",
      "                 count        mean        std    min      25%      50%  \\\n",
      "fidStudie                                                                \n",
      "CACTI_Diabetes    57.0   91.245614  53.519534   2.60  50.5000   85.000   \n",
      "CRISP_ADPKD      113.0    0.984071   0.198911   0.50   0.9000    1.000   \n",
      "CRISP_FollowUp    94.0    0.970213   0.224724   0.50   0.8000    0.900   \n",
      "DiaPat             1.0    1.860000        NaN   1.86   1.8600    1.860   \n",
      "FMD               37.0    0.795946   0.127027   0.60   0.7100    0.790   \n",
      "FSGS               1.0   14.700000        NaN  14.70  14.7000   14.700   \n",
      "GenexTyp1         80.0   95.455000  48.892959  20.52  58.1525   87.670   \n",
      "HarvardDiabetes   19.0   80.357895  53.517529  21.00  51.0000   65.000   \n",
      "IgA_N_Novak       19.0  107.894737  70.787550  17.00  63.5000  100.000   \n",
      "Rupprecht          2.0    1.575000   0.403051   1.29   1.4325    1.575   \n",
      "Urosysteomic      43.0    7.162326   4.470523   1.38   3.9900    5.430   \n",
      "Vaskulitis        12.0   10.800833  29.063519   0.74   1.7350    2.190   \n",
      "\n",
      "                      75%     max  \n",
      "fidStudie                          \n",
      "CACTI_Diabetes   125.5000  241.17  \n",
      "CRISP_ADPKD        1.1000    1.60  \n",
      "CRISP_FollowUp     1.1000    1.50  \n",
      "DiaPat             1.8600    1.86  \n",
      "FMD                0.8800    1.12  \n",
      "FSGS              14.7000   14.70  \n",
      "GenexTyp1        130.7400  232.16  \n",
      "HarvardDiabetes  109.5000  250.00  \n",
      "IgA_N_Novak      125.0000  318.00  \n",
      "Rupprecht          1.7175    1.86  \n",
      "Urosysteomic      10.0150   22.43  \n",
      "Vaskulitis         3.1075  103.00  \n"
     ]
    },
    {
     "data": {
      "image/png": "[encoded data removed]",
      "text/plain": [
       "<Figure size 360x360 with 1 Axes>"
      ]
     },
     "metadata": {
      "needs_background": "light"
     },
     "output_type": "display_data"
    }
   ],
   "source": [
    "# urinary creatinine with mg/dL as unit\n",
    "x1=CHECK2(f2+'Tianlin_GFR_CKD_EPI_cleaned_20200920.xlsx')\n",
    "x1.per_unit('U_Kreatinin','mg/dL')\n",
    "x1.groupby_study('U_Kreatinin') ## distribution according to study\n",
    "x1.plot_hist('U_Kreatinin',ylim=0.20) #histogram"
   ]
  },
  {
   "cell_type": "code",
   "execution_count": 48,
   "metadata": {},
   "outputs": [
    {
     "name": "stdout",
     "output_type": "stream",
     "text": [
      "It contains 7939 rows and 21 columns\n",
      "It contains 1545 rows and 21 columns\n",
      "                        count         mean          std        min  \\\n",
      "fidStudie                                                            \n",
      "ADPKD                    68.0    21.985294    19.547487   3.000000   \n",
      "Benfotiamin             133.0    87.416466    96.419986   6.900000   \n",
      "CACTI_Diabetes           73.0    43.776082   138.968982   2.140000   \n",
      "CKD_Bio                   9.0  1161.730000  1114.315243  35.000000   \n",
      "CRISP_ADPKD             108.0    30.851852    37.287921   2.000000   \n",
      "CRISP_FollowUp           87.0    26.206897    39.769726   2.000000   \n",
      "Cardiovascular_Disease   30.0     3.570000     4.571336   0.900000   \n",
      "Comper_Diabetes         114.0   334.290351  1276.792604   0.600000   \n",
      "EU_Priority              75.0   135.920667   430.906480   0.030000   \n",
      "FSGS_Aachen              32.0  2737.968750  2488.274314   4.000000   \n",
      "GenexTyp1               138.0   245.471014   499.807878   2.000000   \n",
      "HarvardDiabetes          20.0    22.106139    24.327952   3.780761   \n",
      "Marlina                 561.0   287.805877   486.911958  12.266580   \n",
      "NTCVD                    67.0   670.325373  1432.467512   6.300000   \n",
      "PersTIgAN                18.0  1091.722222   714.343039   8.000000   \n",
      "Predictions_Graz         11.0   258.665455   540.785311   2.690000   \n",
      "Predictions_Prag          1.0     8.470000          NaN   8.470000   \n",
      "\n",
      "                               25%        50%        75%         max  \n",
      "fidStudie                                                             \n",
      "ADPKD                     6.000000    15.5000    30.2500    83.00000  \n",
      "Benfotiamin              22.720000    54.1900   123.7600   548.97000  \n",
      "CACTI_Diabetes            3.780000     5.0000    10.4800   780.18000  \n",
      "CKD_Bio                 207.000000  1011.0200  1510.4000  3497.07000  \n",
      "CRISP_ADPKD               8.750000    17.5000    37.2500   220.00000  \n",
      "CRISP_FollowUp            6.000000    17.0000    28.5000   333.00000  \n",
      "Cardiovascular_Disease    1.560000     2.1300     3.7450    25.46000  \n",
      "Comper_Diabetes           0.925000     1.4000    12.3000  8242.50000  \n",
      "EU_Priority               3.940000     9.0600    36.3000  3022.00000  \n",
      "FSGS_Aachen             708.500000  2085.0000  4582.2500  7488.00000  \n",
      "GenexTyp1                 4.000000     9.0000   166.7500  2145.00000  \n",
      "HarvardDiabetes           9.181591    13.2026    18.5125    99.32203  \n",
      "Marlina                  55.650540   114.5772   241.1206  3642.15800  \n",
      "NTCVD                    17.600000    65.6000   505.6000  7136.20000  \n",
      "PersTIgAN               658.500000  1070.5000  1405.0000  2539.00000  \n",
      "Predictions_Graz          3.985000     8.2500   186.3950  1774.31000  \n",
      "Predictions_Prag          8.470000     8.4700     8.4700     8.47000  \n"
     ]
    },
    {
     "data": {
      "image/png": "[encoded data removed]",
      "text/plain": [
       "<Figure size 360x360 with 1 Axes>"
      ]
     },
     "metadata": {
      "needs_background": "light"
     },
     "output_type": "display_data"
    }
   ],
   "source": [
    "# acr with mg/dL as unit (all of them, because acr has only mg/g as unit in the database)\n",
    "x2=CHECK2(f2+'Tianlin_GFR_CKD_EPI_cleaned_20200920.xlsx')\n",
    "x2.per_unit('acr','mg/g')\n",
    "x2.groupby_study('acr') # distribution according to study name\n",
    "x2.plot_hist('acr',ylim=0.01) # histogram"
   ]
  },
  {
   "cell_type": "code",
   "execution_count": null,
   "metadata": {},
   "outputs": [],
   "source": []
  }
 ],
 "metadata": {
  "kernelspec": {
   "display_name": "Python 3",
   "language": "python",
   "name": "python3"
  },
  "language_info": {
   "codemirror_mode": {
    "name": "ipython",
    "version": 3
   },
   "file_extension": ".py",
   "mimetype": "text/x-python",
   "name": "python",
   "nbconvert_exporter": "python",
   "pygments_lexer": "ipython3",
   "version": "3.7.0"
  }
 },
 "nbformat": 4,
 "nbformat_minor": 2
}
